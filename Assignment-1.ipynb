{
 "cells": [
  {
   "cell_type": "markdown",
   "id": "255fe7b6-5f83-48d9-8aee-b01980de1fcd",
   "metadata": {},
   "source": [
    "Q1. Create one variable containing following type of data:\n",
    "(i) string\n",
    "(ii) list\n",
    "(iii) float\n",
    "(iv) tuple"
   ]
  },
  {
   "cell_type": "code",
   "execution_count": 20,
   "id": "0e23beb4-3f34-47e7-b216-5a72aa0918e6",
   "metadata": {},
   "outputs": [],
   "source": [
    "my_string = \"Sani Sharma\"   # String\n",
    "my_list = [1,3,4,6]         # list\n",
    "my_float = 3.14             # float\n",
    "my_tuple = (1,32,4,3,5)     # tuple"
   ]
  },
  {
   "cell_type": "markdown",
   "id": "5e661e17-61cd-43d8-b80d-1beaa289e832",
   "metadata": {},
   "source": [
    "Q2. Given are some following variables containing data:\n",
    "\n",
    "(i) var1 = ‘ ‘\n",
    "(ii) var2 = ‘[ DS , ML , Python]’\n",
    "(iii) var3 = [ ‘DS’ , ’ML’ , ‘Python’ ]\n",
    "(iv) var4 = 1.\n",
    "\n",
    "What will be the data type of the above given variable."
   ]
  },
  {
   "cell_type": "code",
   "execution_count": 21,
   "id": "f778a242-d0a1-4e89-8287-f65ce2f57f1e",
   "metadata": {},
   "outputs": [],
   "source": [
    "var1 = ' '\n",
    "var2 = '[DS,ML,Python]'\n",
    "var3 = ['DS','ML','Python']\n",
    "var4 = 1."
   ]
  },
  {
   "cell_type": "code",
   "execution_count": 22,
   "id": "28efefd6-018a-42d3-be36-ddcf87f9731d",
   "metadata": {},
   "outputs": [
    {
     "name": "stdout",
     "output_type": "stream",
     "text": [
      "<class 'str'>\n",
      "<class 'str'>\n",
      "<class 'list'>\n",
      "<class 'float'>\n"
     ]
    }
   ],
   "source": [
    "print(type(var1))      # string\n",
    "print(type(var2))      # string\n",
    "print(type(var3))      # list\n",
    "print(type(var4))      # float"
   ]
  },
  {
   "cell_type": "markdown",
   "id": "8d0f985c-0bf4-4ae2-a60f-839cdbdc4926",
   "metadata": {},
   "source": [
    "Q3. Explain the use of the following operators using an example:\n",
    "\n",
    "(i) /\n",
    "(ii) %\n",
    "(iii) //\n",
    "(iv) **"
   ]
  },
  {
   "cell_type": "markdown",
   "id": "ceb4fc91-e940-492c-a689-a63b1d311768",
   "metadata": {},
   "source": [
    "Ans:-  \n",
    "(i) / (Division Operator):\n",
    "The division operator (/) performs division between two operands and returns the quotient as a floating-point number.\n",
    "\n",
    "(ii) % (Modulo Operator):\n",
    "The modulo operator (%) returns the remainder of the division between two operands.\n",
    "\n",
    "(iii) // (Floor Division Operator):\n",
    "The floor division operator (//) performs division between two operands and returns the quotient as an integer by discarding the decimal part.\n",
    "\n",
    "(iv) ** (Exponentiation Operator):\n",
    "The exponentiation operator (**) raises the left operand to the power of the right operand.\n",
    "\n",
    "Examples are given below;"
   ]
  },
  {
   "cell_type": "code",
   "execution_count": 23,
   "id": "5fca97d0-eca3-4372-8576-f2c0314a6b0d",
   "metadata": {},
   "outputs": [
    {
     "name": "stdout",
     "output_type": "stream",
     "text": [
      "3.3333333333333335\n",
      "1\n",
      "3\n",
      "1000\n"
     ]
    }
   ],
   "source": [
    "a = 10\n",
    "b = 3\n",
    "result = a / b  # / (Division operator)\n",
    "print(result)\n",
    "\n",
    "result = a % b  # % (Modulo Operator)\n",
    "print(result)\n",
    "\n",
    "result = a // b  # // (Floor Division operator)\n",
    "print(result)\n",
    "\n",
    "result = a ** b  # ** (Exponentiation Operator)\n",
    "print(result)"
   ]
  },
  {
   "cell_type": "markdown",
   "id": "ac099a88-bc3a-4033-9378-d1dae20e9d56",
   "metadata": {},
   "source": [
    "Q4. Create a list of length 10 of your choice containing multiple types of data. Using for loop print the\n",
    "element and its data type."
   ]
  },
  {
   "cell_type": "code",
   "execution_count": 24,
   "id": "73ef20d1-dc6d-460d-bf08-d991879ef33f",
   "metadata": {},
   "outputs": [
    {
     "name": "stdout",
     "output_type": "stream",
     "text": [
      "Element: 1 | Data Type: <class 'int'>\n",
      "Element: Hello | Data Type: <class 'str'>\n",
      "Element: 3.14 | Data Type: <class 'float'>\n",
      "Element: True | Data Type: <class 'bool'>\n",
      "Element: [1, 2, 3] | Data Type: <class 'list'>\n",
      "Element: {'name': 'John'} | Data Type: <class 'dict'>\n",
      "Element: (4, 5) | Data Type: <class 'tuple'>\n",
      "Element: None | Data Type: <class 'NoneType'>\n",
      "Element: World | Data Type: <class 'str'>\n",
      "Element: False | Data Type: <class 'bool'>\n"
     ]
    }
   ],
   "source": [
    "my_list = [1, \"Hello\", 3.14, True, [1, 2, 3], {'name': 'John'}, (4, 5), None, \"World\", False]\n",
    "\n",
    "for i in my_list:\n",
    "    print(f\"Element: {i} | Data Type: {type(i)}\")\n"
   ]
  },
  {
   "cell_type": "markdown",
   "id": "924bd0e1-97f1-4bb1-b364-731c9a242515",
   "metadata": {},
   "source": [
    "Q5. Using a while loop, verify if the number A is purely divisible by number B and if so then how many\n",
    "times it can be divisible."
   ]
  },
  {
   "cell_type": "code",
   "execution_count": 25,
   "id": "38692224-8c34-4f04-b4a4-b8a0a8b9500d",
   "metadata": {},
   "outputs": [
    {
     "name": "stdout",
     "output_type": "stream",
     "text": [
      "A is divisible by B 2 times.\n"
     ]
    }
   ],
   "source": [
    "A = 100\n",
    "B = 10\n",
    "\n",
    "count = 0\n",
    "\n",
    "while A % B == 0:\n",
    "    A = A // B\n",
    "    count += 1\n",
    "\n",
    "print(f\"A is divisible by B {count} times.\")\n"
   ]
  },
  {
   "cell_type": "markdown",
   "id": "ac80ab9d-09a2-43fe-adc0-b7615d4ff428",
   "metadata": {},
   "source": [
    "Q6. Create a list containing 25 int type data. Using for loop and if-else condition print if the element is\n",
    "divisible by 3 or not."
   ]
  },
  {
   "cell_type": "code",
   "execution_count": 26,
   "id": "1e67d38d-c7e1-4b96-ad37-825a0ddf68af",
   "metadata": {},
   "outputs": [
    {
     "name": "stdout",
     "output_type": "stream",
     "text": [
      "12 is divisible by 3.\n",
      "5 is not divisible by 3.\n",
      "18 is divisible by 3.\n",
      "7 is not divisible by 3.\n",
      "9 is divisible by 3.\n",
      "21 is divisible by 3.\n",
      "14 is not divisible by 3.\n",
      "27 is divisible by 3.\n",
      "33 is divisible by 3.\n",
      "10 is not divisible by 3.\n",
      "6 is divisible by 3.\n",
      "30 is divisible by 3.\n",
      "17 is not divisible by 3.\n",
      "22 is not divisible by 3.\n",
      "8 is not divisible by 3.\n",
      "11 is not divisible by 3.\n",
      "25 is not divisible by 3.\n",
      "36 is divisible by 3.\n",
      "15 is divisible by 3.\n",
      "20 is not divisible by 3.\n",
      "13 is not divisible by 3.\n",
      "16 is not divisible by 3.\n",
      "19 is not divisible by 3.\n",
      "28 is not divisible by 3.\n",
      "24 is divisible by 3.\n"
     ]
    }
   ],
   "source": [
    "my_list1 = [12, 5, 18, 7, 9, 21, 14, 27, 33, 10, 6, 30, 17, 22, 8, 11, 25, 36, 15, 20, 13, 16, 19, 28, 24]\n",
    "\n",
    "for num in my_list1:\n",
    "    if num % 3 == 0:\n",
    "        print(f\"{num} is divisible by 3.\")\n",
    "    else:\n",
    "        print(f\"{num} is not divisible by 3.\")\n"
   ]
  },
  {
   "cell_type": "markdown",
   "id": "f4a7a624-b620-4925-b1a6-e6adc6313d44",
   "metadata": {},
   "source": [
    "Q7. What do you understand about mutable and immutable data types? Give examples for both showing\n",
    "this property."
   ]
  },
  {
   "cell_type": "markdown",
   "id": "add86704-f774-448c-ba03-6588cace2544",
   "metadata": {},
   "source": [
    "Ans:- \n",
    "Mutable Data Types:-\n",
    "Mutable data types are those that can be modified or changed after they are created. This means you can update, add, or remove elements within the data type without creating a new object.\n",
    "Examples include lists, dictionaries, and sets.\n",
    "\n",
    "Immutable Data Types:-\n",
    "Immutable data types are those that cannot be changed once they are created. This means any operation performed on an immutable object results in the creation of a new object.\n",
    "Examples: Strings, tuples, integers, floats, booleans."
   ]
  },
  {
   "cell_type": "code",
   "execution_count": 28,
   "id": "157e2aed-4c69-4304-aaf2-22761912c557",
   "metadata": {
    "tags": []
   },
   "outputs": [
    {
     "name": "stdout",
     "output_type": "stream",
     "text": [
      "[1, 2, 3, 4]\n",
      "Hello World\n"
     ]
    }
   ],
   "source": [
    "# Example of a mutable list\n",
    "my_list = [1, 2, 3]\n",
    "my_list.append(4)\n",
    "print(my_list) \n",
    "\n",
    "# Example of an immutable string\n",
    "my_string = \"Hello\"\n",
    "new_string = my_string + \" World\"\n",
    "print(new_string)"
   ]
  }
 ],
 "metadata": {
  "kernelspec": {
   "display_name": "Python 3 (ipykernel)",
   "language": "python",
   "name": "python3"
  },
  "language_info": {
   "codemirror_mode": {
    "name": "ipython",
    "version": 3
   },
   "file_extension": ".py",
   "mimetype": "text/x-python",
   "name": "python",
   "nbconvert_exporter": "python",
   "pygments_lexer": "ipython3",
   "version": "3.10.8"
  }
 },
 "nbformat": 4,
 "nbformat_minor": 5
}
